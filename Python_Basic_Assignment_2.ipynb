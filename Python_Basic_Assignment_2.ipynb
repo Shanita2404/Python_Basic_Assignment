{
 "cells": [
  {
   "cell_type": "code",
   "execution_count": null,
   "metadata": {},
   "outputs": [],
   "source": [
    "'''Q1\n",
    "1) True\n",
    "2) false\n",
    "'''"
   ]
  },
  {
   "cell_type": "code",
   "execution_count": null,
   "metadata": {},
   "outputs": [],
   "source": [
    "'''Q2\n",
    "1) AND\n",
    "2) OR\n",
    "3) NOT\n",
    "'''"
   ]
  },
  {
   "cell_type": "code",
   "execution_count": null,
   "metadata": {},
   "outputs": [],
   "source": [
    "'''Q3\n",
    "For AND\n",
    "    True AND True =True\n",
    "    True AND False=False\n",
    "    False AND True=False\n",
    "    False AND False=False\n",
    "\n",
    "For OR\n",
    "    True OR True =True\n",
    "    True OR False=True\n",
    "    False OR True=True\n",
    "    False OR False=False\n",
    "    \n",
    "For NOT\n",
    "    NOT True=False\n",
    "    NOT False=True\n",
    "'''"
   ]
  },
  {
   "cell_type": "code",
   "execution_count": 2,
   "metadata": {},
   "outputs": [
    {
     "name": "stdout",
     "output_type": "stream",
     "text": [
      "False\n",
      "False\n",
      "True\n",
      "False\n",
      "False\n",
      "True\n"
     ]
    }
   ],
   "source": [
    "#Q4\n",
    "\n",
    "a=(5 > 4) and (3 == 5)\n",
    "print(a)\n",
    "b=not (5 > 4)\n",
    "print(b)\n",
    "c=(5 > 4) or (3 == 5)\n",
    "print(c)\n",
    "d=not ((5 > 4) or (3 == 5))\n",
    "print(d)\n",
    "e=(True and True) and (True == False)\n",
    "print(e)\n",
    "f=(not False) or (not True)\n",
    "print(f)"
   ]
  },
  {
   "cell_type": "code",
   "execution_count": null,
   "metadata": {},
   "outputs": [],
   "source": [
    "'''Q5\n",
    "Comparison operator\n",
    "1)==\n",
    "2)!=\n",
    "3)>\n",
    "4)<\n",
    "5)>=\n",
    "6)<=\n",
    "'''"
   ]
  },
  {
   "cell_type": "code",
   "execution_count": null,
   "metadata": {},
   "outputs": [],
   "source": [
    "#Q6\n",
    "'''The “=” is an assignment operator is used to assign the value to variable.\n",
    "The '==' operator checks whether the two given operands are equal or not. If so, it returns true. Otherwise it returns false.'''"
   ]
  },
  {
   "cell_type": "code",
   "execution_count": null,
   "metadata": {},
   "outputs": [],
   "source": [
    "#Q7\n",
    "spam = 0\n",
    "if spam == 10:\n",
    "    print('eggs')\n",
    "    if spam > 5:\n",
    "        \n",
    "        print('bacon')\n",
    "    else:      \n",
    "        print('ham')\n",
    "        print('spam')\n",
    "        print('spam')\n"
   ]
  },
  {
   "cell_type": "code",
   "execution_count": 4,
   "metadata": {},
   "outputs": [
    {
     "name": "stdout",
     "output_type": "stream",
     "text": [
      "Enter the spam value1\n",
      "Hello\n"
     ]
    }
   ],
   "source": [
    "#Q8\n",
    "spam = int(input('Enter the spam value'))\n",
    "if spam == 1:\n",
    "    print(\"Hello\")\n",
    "elif spam == 2:\n",
    "    print(\"Howdy\")\n",
    "else:\n",
    "    print(\"Grretings!\")"
   ]
  },
  {
   "cell_type": "code",
   "execution_count": null,
   "metadata": {},
   "outputs": [],
   "source": [
    "#Q9\n",
    " Esc"
   ]
  },
  {
   "cell_type": "code",
   "execution_count": null,
   "metadata": {},
   "outputs": [],
   "source": [
    "'''Q10\n",
    "Contine: it will continue with next iteration in loop\n",
    "Break: It will break the loop and come out from loop\n",
    "'''"
   ]
  },
  {
   "cell_type": "code",
   "execution_count": null,
   "metadata": {},
   "outputs": [],
   "source": [
    "'''Q11\n",
    "range(10): It will give the value at index 10\n",
    "range(0,10): It will retrive value from 0 to 10 index\n",
    "range(0,10,1):It will retrive values from 0 to 10 index after 1\n",
    "'''"
   ]
  },
  {
   "cell_type": "code",
   "execution_count": 14,
   "metadata": {},
   "outputs": [
    {
     "name": "stdout",
     "output_type": "stream",
     "text": [
      "1\n",
      "2\n",
      "3\n",
      "4\n",
      "5\n",
      "6\n",
      "7\n",
      "8\n",
      "9\n"
     ]
    }
   ],
   "source": [
    "#Q12\n",
    "i=1\n",
    "while i != 10:\n",
    "    print(i)\n",
    "    i = i+1\n",
    "       "
   ]
  },
  {
   "cell_type": "code",
   "execution_count": null,
   "metadata": {},
   "outputs": [],
   "source": [
    "#13\n",
    "spam.bacon()"
   ]
  }
 ],
 "metadata": {
  "kernelspec": {
   "display_name": "Python 3",
   "language": "python",
   "name": "python3"
  },
  "language_info": {
   "codemirror_mode": {
    "name": "ipython",
    "version": 3
   },
   "file_extension": ".py",
   "mimetype": "text/x-python",
   "name": "python",
   "nbconvert_exporter": "python",
   "pygments_lexer": "ipython3",
   "version": "3.8.5"
  }
 },
 "nbformat": 4,
 "nbformat_minor": 4
}
